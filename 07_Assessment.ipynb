{
 "cells": [
  {
   "cell_type": "markdown",
   "metadata": {},
   "source": [
    "<img src=\"./images/DLI_Header.png\" style=\"width: 400px;\">"
   ]
  },
  {
   "cell_type": "markdown",
   "metadata": {},
   "source": [
    "# Assessment"
   ]
  },
  {
   "cell_type": "markdown",
   "metadata": {},
   "source": [
    "Congratulations on going through today's course! Hopefully, you've learned some valuable skills along the way and had fun doing it. Now it's time to put those skills to the test. In this assessment, you will train a new model that is able to recognize fresh and rotten fruit. You will need to get the model to a validation accuracy of `92%` in order to pass the assessment, though we challenge you to do even better if you can. You will have the use the skills that you learned in the previous exercises. Specifically, we suggest using some combination of transfer learning, data augmentation, and fine tuning. Once you have trained the model to be at least 92% accurate on the validation dataset, save your model, and then assess its accuracy. Let's get started! "
   ]
  },
  {
   "cell_type": "markdown",
   "metadata": {},
   "source": [
    "## The Dataset"
   ]
  },
  {
   "cell_type": "markdown",
   "metadata": {},
   "source": [
    "In this exercise, you will train a model to recognize fresh and rotten fruits. The dataset comes from [Kaggle](https://www.kaggle.com/sriramr/fruits-fresh-and-rotten-for-classification), a great place to go if you're interested in starting a project after this class. The dataset structure is in the `data/fruits` folder. There are 6 categories of fruits: fresh apples, fresh oranges, fresh bananas, rotten apples, rotten oranges, and rotten bananas. This will mean that your model will require an output layer of 6 neurons to do the categorization successfully. You'll also need to compile the model with `categorical_crossentropy`, as we have more than two categories."
   ]
  },
  {
   "cell_type": "markdown",
   "metadata": {},
   "source": [
    "<img src=\"./images/fruits.png\" style=\"width: 600px;\">"
   ]
  },
  {
   "cell_type": "markdown",
   "metadata": {},
   "source": [
    "## Load ImageNet Base Model"
   ]
  },
  {
   "cell_type": "markdown",
   "metadata": {},
   "source": [
    "We encourage you to start with a model pretrained on ImageNet. Load the model with the correct weights, set an input shape, and choose to remove the last layers of the model. Remember that images have three dimensions: a height, and width, and a number of channels. Because these pictures are in color, there will be three channels for red, green, and blue. We've filled in the input shape for you. This cannot be changed or the assessment will fail. If you need a reference for setting up the pretrained model, please take a look at [notebook 05b](05b_presidential_doggy_door.ipynb) where we implemented transfer learning."
   ]
  },
  {
   "cell_type": "code",
   "execution_count": 1,
   "metadata": {},
   "outputs": [
    {
     "name": "stdout",
     "output_type": "stream",
     "text": [
      "Downloading data from https://storage.googleapis.com/tensorflow/keras-applications/vgg16/vgg16_weights_tf_dim_ordering_tf_kernels_notop.h5\n",
      "58892288/58889256 [==============================] - 0s 0us/step\n"
     ]
    }
   ],
   "source": [
    "from tensorflow import keras\n",
    "\n",
    "base_model = keras.applications.VGG16(\n",
    "    weights='imagenet',  # Load weights pre-trained on ImageNet.\n",
    "    input_shape=(224, 224, 3),\n",
    "    include_top=False)"
   ]
  },
  {
   "cell_type": "markdown",
   "metadata": {},
   "source": [
    "## Freeze Base Model"
   ]
  },
  {
   "cell_type": "markdown",
   "metadata": {},
   "source": [
    "Next, we suggest freezing the base model, as done in [notebook 05b](05b_presidential_doggy_door.ipynb). This is done so that all the learning from the ImageNet dataset does not get destroyed in the initial training."
   ]
  },
  {
   "cell_type": "code",
   "execution_count": 2,
   "metadata": {},
   "outputs": [],
   "source": [
    "# Freeze base model\n",
    "base_model.trainable = False"
   ]
  },
  {
   "cell_type": "markdown",
   "metadata": {},
   "source": [
    "## Add Layers to Model"
   ]
  },
  {
   "cell_type": "markdown",
   "metadata": {},
   "source": [
    "Now it's time to add layers to the pretrained model. [Notebook 05b](05b_presidential_doggy_door.ipynb) can be used as a guide. Pay close attention to the last dense layer and make sure it has the correct number of neurons to classify the different types of fruit."
   ]
  },
  {
   "cell_type": "code",
   "execution_count": 3,
   "metadata": {},
   "outputs": [],
   "source": [
    "# Create inputs with correct shape\n",
    "inputs = keras.Input(shape=(224, 224, 3))\n",
    "\n",
    "x = base_model(inputs, training=False)\n",
    "\n",
    "# Add pooling layer or flatten layer\n",
    "x = keras.layers.GlobalAveragePooling2D()(x)\n",
    "\n",
    "# Add final dense layer\n",
    "outputs = keras.layers.Dense(6, activation = 'softmax')(x)\n",
    "\n",
    "# Combine inputs and outputs to create model\n",
    "model = keras.Model(inputs, outputs)"
   ]
  },
  {
   "cell_type": "code",
   "execution_count": 4,
   "metadata": {},
   "outputs": [
    {
     "name": "stdout",
     "output_type": "stream",
     "text": [
      "Model: \"model\"\n",
      "_________________________________________________________________\n",
      "Layer (type)                 Output Shape              Param #   \n",
      "=================================================================\n",
      "input_2 (InputLayer)         [(None, 224, 224, 3)]     0         \n",
      "_________________________________________________________________\n",
      "vgg16 (Model)                (None, 7, 7, 512)         14714688  \n",
      "_________________________________________________________________\n",
      "global_average_pooling2d (Gl (None, 512)               0         \n",
      "_________________________________________________________________\n",
      "dense (Dense)                (None, 6)                 3078      \n",
      "=================================================================\n",
      "Total params: 14,717,766\n",
      "Trainable params: 3,078\n",
      "Non-trainable params: 14,714,688\n",
      "_________________________________________________________________\n"
     ]
    }
   ],
   "source": [
    "model.summary()"
   ]
  },
  {
   "cell_type": "markdown",
   "metadata": {},
   "source": [
    "## Compile Model"
   ]
  },
  {
   "cell_type": "markdown",
   "metadata": {},
   "source": [
    "Now it's time to compile the model with loss and metrics options. Remember that we're training on a number of different categories, rather than a binary classification problem."
   ]
  },
  {
   "cell_type": "code",
   "execution_count": 5,
   "metadata": {},
   "outputs": [],
   "source": [
    "model.compile(loss = keras.losses.CategoricalCrossentropy(from_logits=True), metrics = [keras.metrics.CategoricalAccuracy()])"
   ]
  },
  {
   "cell_type": "markdown",
   "metadata": {},
   "source": [
    "## Augment the Data"
   ]
  },
  {
   "cell_type": "markdown",
   "metadata": {},
   "source": [
    "If you'd like, try to augment the data to improve the dataset. Feel free to look at [notebook 04a](04a_asl_augmentation.ipynb) and [notebook 05b](05b_presidential_doggy_door.ipynb) for augmentation examples. There is also documentation for the [Keras ImageDataGenerator class](https://keras.io/api/preprocessing/image/#imagedatagenerator-class). This step is optional, but it may be helpful to get to 92% accuracy."
   ]
  },
  {
   "cell_type": "code",
   "execution_count": 6,
   "metadata": {},
   "outputs": [],
   "source": [
    "from tensorflow.keras.preprocessing.image import ImageDataGenerator\n",
    "\n",
    "datagen = ImageDataGenerator(\n",
    "    rotation_range=10,  # randomly rotate images in the range (degrees, 0 to 180)\n",
    "    zoom_range=0.1,  # Randomly zoom image\n",
    "    width_shift_range=0.1,  # randomly shift images horizontally (fraction of total width)\n",
    "    height_shift_range=0.1,  # randomly shift images vertically (fraction of total height)\n",
    "    horizontal_flip=True,  # randomly flip images horizontally\n",
    "    vertical_flip=False, # Don't randomly flip images vertically\n",
    ")  "
   ]
  },
  {
   "cell_type": "markdown",
   "metadata": {},
   "source": [
    "## Load Dataset"
   ]
  },
  {
   "cell_type": "markdown",
   "metadata": {},
   "source": [
    "Now it's time to load the train and validation datasets. Pick the right folders, as well as the right `target_size` of the images (it needs to match the height and width input of the model you've created). If you'd like a reference, you can check out [notebook 05b](05b_presidential_doggy_door.ipynb)."
   ]
  },
  {
   "cell_type": "code",
   "execution_count": 7,
   "metadata": {},
   "outputs": [
    {
     "name": "stdout",
     "output_type": "stream",
     "text": [
      "Found 1182 images belonging to 6 classes.\n",
      "Found 329 images belonging to 6 classes.\n"
     ]
    }
   ],
   "source": [
    "# load and iterate training dataset\n",
    "train_it = datagen.flow_from_directory('data/fruits/train/', \n",
    "                                       target_size=(224, 224), \n",
    "                                       color_mode='rgb', \n",
    "                                       class_mode=\"categorical\")\n",
    "# load and iterate validation dataset\n",
    "valid_it = datagen.flow_from_directory('data/fruits/valid/', \n",
    "                                      target_size=(224, 224), \n",
    "                                      color_mode='rgb', \n",
    "                                      class_mode=\"categorical\")"
   ]
  },
  {
   "cell_type": "markdown",
   "metadata": {},
   "source": [
    "## Train the Model"
   ]
  },
  {
   "cell_type": "markdown",
   "metadata": {},
   "source": [
    "Time to train the model! Pass the `train` and `valid` iterators into the `fit` function, as well as setting your desired number of epochs."
   ]
  },
  {
   "cell_type": "code",
   "execution_count": 9,
   "metadata": {},
   "outputs": [
    {
     "name": "stdout",
     "output_type": "stream",
     "text": [
      "Epoch 1/20\n",
      "37/36 [==============================] - 19s 504ms/step - loss: 1.2034 - categorical_accuracy: 0.8409 - val_loss: 1.1801 - val_categorical_accuracy: 0.8693\n",
      "Epoch 2/20\n",
      "37/36 [==============================] - 19s 511ms/step - loss: 1.1997 - categorical_accuracy: 0.8418 - val_loss: 1.2222 - val_categorical_accuracy: 0.8146\n",
      "Epoch 3/20\n",
      "37/36 [==============================] - 19s 511ms/step - loss: 1.1984 - categorical_accuracy: 0.8452 - val_loss: 1.2148 - val_categorical_accuracy: 0.8237\n",
      "Epoch 4/20\n",
      "37/36 [==============================] - 19s 505ms/step - loss: 1.1963 - categorical_accuracy: 0.8435 - val_loss: 1.2124 - val_categorical_accuracy: 0.8298\n",
      "Epoch 5/20\n",
      "37/36 [==============================] - 19s 510ms/step - loss: 1.1955 - categorical_accuracy: 0.8469 - val_loss: 1.1984 - val_categorical_accuracy: 0.8419\n",
      "Epoch 6/20\n",
      "37/36 [==============================] - 19s 506ms/step - loss: 1.1941 - categorical_accuracy: 0.8503 - val_loss: 1.2135 - val_categorical_accuracy: 0.8267\n",
      "Epoch 7/20\n",
      "37/36 [==============================] - 19s 500ms/step - loss: 1.1911 - categorical_accuracy: 0.8545 - val_loss: 1.1982 - val_categorical_accuracy: 0.8450\n",
      "Epoch 8/20\n",
      "37/36 [==============================] - 19s 505ms/step - loss: 1.1979 - categorical_accuracy: 0.8435 - val_loss: 1.2010 - val_categorical_accuracy: 0.8419\n",
      "Epoch 9/20\n",
      "37/36 [==============================] - 19s 509ms/step - loss: 1.1886 - categorical_accuracy: 0.8536 - val_loss: 1.1953 - val_categorical_accuracy: 0.8480\n",
      "Epoch 10/20\n",
      "37/36 [==============================] - 19s 508ms/step - loss: 1.1906 - categorical_accuracy: 0.8503 - val_loss: 1.2098 - val_categorical_accuracy: 0.8359\n",
      "Epoch 11/20\n",
      "37/36 [==============================] - 19s 507ms/step - loss: 1.1903 - categorical_accuracy: 0.8528 - val_loss: 1.1787 - val_categorical_accuracy: 0.8663\n",
      "Epoch 12/20\n",
      "37/36 [==============================] - 19s 509ms/step - loss: 1.1859 - categorical_accuracy: 0.8562 - val_loss: 1.2150 - val_categorical_accuracy: 0.8298\n",
      "Epoch 13/20\n",
      "37/36 [==============================] - 19s 505ms/step - loss: 1.1898 - categorical_accuracy: 0.8511 - val_loss: 1.1921 - val_categorical_accuracy: 0.8511\n",
      "Epoch 14/20\n",
      "37/36 [==============================] - 19s 505ms/step - loss: 1.1914 - categorical_accuracy: 0.8503 - val_loss: 1.1919 - val_categorical_accuracy: 0.8480\n",
      "Epoch 15/20\n",
      "37/36 [==============================] - 19s 507ms/step - loss: 1.1847 - categorical_accuracy: 0.8579 - val_loss: 1.1844 - val_categorical_accuracy: 0.8602\n",
      "Epoch 16/20\n",
      "37/36 [==============================] - 19s 510ms/step - loss: 1.1846 - categorical_accuracy: 0.8570 - val_loss: 1.2077 - val_categorical_accuracy: 0.8328\n",
      "Epoch 17/20\n",
      "37/36 [==============================] - 19s 511ms/step - loss: 1.1873 - categorical_accuracy: 0.8553 - val_loss: 1.1958 - val_categorical_accuracy: 0.8480\n",
      "Epoch 18/20\n",
      "37/36 [==============================] - 18s 496ms/step - loss: 1.1865 - categorical_accuracy: 0.8553 - val_loss: 1.2041 - val_categorical_accuracy: 0.8389\n",
      "Epoch 19/20\n",
      "37/36 [==============================] - 19s 507ms/step - loss: 1.1872 - categorical_accuracy: 0.8545 - val_loss: 1.1957 - val_categorical_accuracy: 0.8450\n",
      "Epoch 20/20\n",
      "37/36 [==============================] - 19s 507ms/step - loss: 1.1833 - categorical_accuracy: 0.8587 - val_loss: 1.1960 - val_categorical_accuracy: 0.8480\n"
     ]
    },
    {
     "data": {
      "text/plain": [
       "<tensorflow.python.keras.callbacks.History at 0x7f68e43a9ac8>"
      ]
     },
     "execution_count": 9,
     "metadata": {},
     "output_type": "execute_result"
    }
   ],
   "source": [
    "model.fit(train_it,\n",
    "          validation_data=valid_it,\n",
    "          steps_per_epoch=train_it.samples/train_it.batch_size,\n",
    "          validation_steps=valid_it.samples/valid_it.batch_size,\n",
    "          epochs=20)"
   ]
  },
  {
   "cell_type": "markdown",
   "metadata": {},
   "source": [
    "## Unfreeze Model for Fine Tuning"
   ]
  },
  {
   "cell_type": "markdown",
   "metadata": {},
   "source": [
    "If you have reached 92% validation accuracy already, this next step is optional. If not, we suggest fine tuning the model with a very low learning rate."
   ]
  },
  {
   "cell_type": "code",
   "execution_count": 10,
   "metadata": {},
   "outputs": [],
   "source": [
    "# Unfreeze the base model\n",
    "base_model.trainable = True\n",
    "\n",
    "# Compile the model with a low learning rate\n",
    "model.compile(optimizer=keras.optimizers.RMSprop(learning_rate = .00001),\n",
    "              loss = keras.losses.CategoricalCrossentropy(from_logits=True), metrics = [keras.metrics.CategoricalAccuracy()])"
   ]
  },
  {
   "cell_type": "code",
   "execution_count": 11,
   "metadata": {},
   "outputs": [
    {
     "name": "stdout",
     "output_type": "stream",
     "text": [
      "Epoch 1/20\n",
      "37/36 [==============================] - 37s 1s/step - loss: 1.1992 - categorical_accuracy: 0.8418 - val_loss: 1.2222 - val_categorical_accuracy: 0.8207\n",
      "Epoch 2/20\n",
      "37/36 [==============================] - 20s 552ms/step - loss: 1.1976 - categorical_accuracy: 0.8435 - val_loss: 1.2085 - val_categorical_accuracy: 0.8328\n",
      "Epoch 3/20\n",
      "37/36 [==============================] - 21s 556ms/step - loss: 1.1983 - categorical_accuracy: 0.8426 - val_loss: 1.1870 - val_categorical_accuracy: 0.8541\n",
      "Epoch 4/20\n",
      "37/36 [==============================] - 21s 560ms/step - loss: 1.1785 - categorical_accuracy: 0.8613 - val_loss: 1.1959 - val_categorical_accuracy: 0.8450\n",
      "Epoch 5/20\n",
      "37/36 [==============================] - 21s 559ms/step - loss: 1.1871 - categorical_accuracy: 0.8536 - val_loss: 1.2085 - val_categorical_accuracy: 0.8328\n",
      "Epoch 6/20\n",
      "37/36 [==============================] - 21s 569ms/step - loss: 1.1891 - categorical_accuracy: 0.8519 - val_loss: 1.2329 - val_categorical_accuracy: 0.8055\n",
      "Epoch 7/20\n",
      "37/36 [==============================] - 21s 574ms/step - loss: 1.1809 - categorical_accuracy: 0.8596 - val_loss: 1.1866 - val_categorical_accuracy: 0.8511\n",
      "Epoch 8/20\n",
      "37/36 [==============================] - 21s 575ms/step - loss: 1.1862 - categorical_accuracy: 0.8545 - val_loss: 1.1838 - val_categorical_accuracy: 0.8541\n",
      "Epoch 9/20\n",
      "37/36 [==============================] - 21s 561ms/step - loss: 1.1867 - categorical_accuracy: 0.8545 - val_loss: 1.2010 - val_categorical_accuracy: 0.8389\n",
      "Epoch 10/20\n",
      "37/36 [==============================] - 21s 581ms/step - loss: 1.1823 - categorical_accuracy: 0.8587 - val_loss: 1.1845 - val_categorical_accuracy: 0.8511\n",
      "Epoch 11/20\n",
      "37/36 [==============================] - 21s 580ms/step - loss: 1.1742 - categorical_accuracy: 0.8655 - val_loss: 1.1786 - val_categorical_accuracy: 0.8632\n",
      "Epoch 12/20\n",
      "37/36 [==============================] - 22s 590ms/step - loss: 1.1762 - categorical_accuracy: 0.8629 - val_loss: 1.1989 - val_categorical_accuracy: 0.8328\n",
      "Epoch 13/20\n",
      "37/36 [==============================] - 22s 582ms/step - loss: 1.1796 - categorical_accuracy: 0.8587 - val_loss: 1.1844 - val_categorical_accuracy: 0.8541\n",
      "Epoch 14/20\n",
      "37/36 [==============================] - 22s 585ms/step - loss: 1.1769 - categorical_accuracy: 0.8613 - val_loss: 1.1911 - val_categorical_accuracy: 0.8480\n",
      "Epoch 15/20\n",
      "37/36 [==============================] - 22s 590ms/step - loss: 1.1755 - categorical_accuracy: 0.8621 - val_loss: 1.1694 - val_categorical_accuracy: 0.8693\n",
      "Epoch 16/20\n",
      "37/36 [==============================] - 22s 589ms/step - loss: 1.1828 - categorical_accuracy: 0.8545 - val_loss: 1.1988 - val_categorical_accuracy: 0.8359\n",
      "Epoch 17/20\n",
      "37/36 [==============================] - 22s 589ms/step - loss: 1.1049 - categorical_accuracy: 0.9399 - val_loss: 1.0736 - val_categorical_accuracy: 0.9757\n",
      "Epoch 18/20\n",
      "37/36 [==============================] - 22s 585ms/step - loss: 1.0579 - categorical_accuracy: 0.9873 - val_loss: 1.0736 - val_categorical_accuracy: 0.9696\n",
      "Epoch 19/20\n",
      "37/36 [==============================] - 22s 582ms/step - loss: 1.0519 - categorical_accuracy: 0.9932 - val_loss: 1.0634 - val_categorical_accuracy: 0.9818\n",
      "Epoch 20/20\n",
      "37/36 [==============================] - 22s 581ms/step - loss: 1.0508 - categorical_accuracy: 0.9924 - val_loss: 1.0708 - val_categorical_accuracy: 0.9757\n"
     ]
    },
    {
     "data": {
      "text/plain": [
       "<tensorflow.python.keras.callbacks.History at 0x7f68e41bfcc0>"
      ]
     },
     "execution_count": 11,
     "metadata": {},
     "output_type": "execute_result"
    }
   ],
   "source": [
    "model.fit(train_it,\n",
    "          validation_data=valid_it,\n",
    "          steps_per_epoch=train_it.samples/train_it.batch_size,\n",
    "          validation_steps=valid_it.samples/valid_it.batch_size,\n",
    "          epochs=20)"
   ]
  },
  {
   "cell_type": "markdown",
   "metadata": {},
   "source": [
    "## Evaluate the Model"
   ]
  },
  {
   "cell_type": "markdown",
   "metadata": {},
   "source": [
    "Hopefully, you now have a model that has a validation accuracy of 92% or higher. If not, you may want to go back and either run more epochs of training, or adjust your data augmentation. \n",
    "\n",
    "Once you are satisfied with the validation accuracy, evaluate the model by executing the following cell. The evaluate function will return a tuple, where the first value is your loss, and the second value is your accuracy. To pass, the model will need have an accuracy value of `92% or higher`. "
   ]
  },
  {
   "cell_type": "code",
   "execution_count": 12,
   "metadata": {},
   "outputs": [
    {
     "name": "stdout",
     "output_type": "stream",
     "text": [
      "11/10 [================================] - 4s 323ms/step - loss: 1.0731 - categorical_accuracy: 0.9696\n"
     ]
    },
    {
     "data": {
      "text/plain": [
       "[1.073121190071106, 0.9696048498153687]"
      ]
     },
     "execution_count": 12,
     "metadata": {},
     "output_type": "execute_result"
    }
   ],
   "source": [
    "model.evaluate(valid_it, steps=valid_it.samples/valid_it.batch_size)"
   ]
  },
  {
   "cell_type": "markdown",
   "metadata": {},
   "source": [
    "## Run the Assessment"
   ]
  },
  {
   "cell_type": "markdown",
   "metadata": {},
   "source": [
    "To assess your model run the following two cells.\n",
    "\n",
    "**NOTE:** `run_assessment` assumes your model is named `model` and your validation data iterator is called `valid_it`. If for any reason you have modified these variable names, please update the names of the arguments passed to `run_assessment`."
   ]
  },
  {
   "cell_type": "code",
   "execution_count": null,
   "metadata": {},
   "outputs": [],
   "source": [
    "from run_assessment import run_assessment"
   ]
  },
  {
   "cell_type": "code",
   "execution_count": null,
   "metadata": {},
   "outputs": [],
   "source": [
    "run_assessment(model, valid_it)"
   ]
  },
  {
   "cell_type": "markdown",
   "metadata": {},
   "source": [
    "## Generate a Certificate"
   ]
  },
  {
   "cell_type": "markdown",
   "metadata": {},
   "source": [
    "If you passed the assessment, please return to the course page (shown below) and click the \"ASSESS TASK\" button, which will generate your certificate for the course."
   ]
  },
  {
   "cell_type": "markdown",
   "metadata": {},
   "source": [
    "<img src=\"./images/assess_task.png\" style=\"width: 800px;\">"
   ]
  }
 ],
 "metadata": {
  "kernelspec": {
   "display_name": "Python 3",
   "language": "python",
   "name": "python3"
  },
  "language_info": {
   "codemirror_mode": {
    "name": "ipython",
    "version": 3
   },
   "file_extension": ".py",
   "mimetype": "text/x-python",
   "name": "python",
   "nbconvert_exporter": "python",
   "pygments_lexer": "ipython3",
   "version": "3.6.9"
  }
 },
 "nbformat": 4,
 "nbformat_minor": 4
}
